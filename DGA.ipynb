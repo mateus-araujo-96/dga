{
 "cells": [
  {
   "cell_type": "code",
   "execution_count": 1,
   "metadata": {},
   "outputs": [],
   "source": [
    "import numpy as np\n",
    "import pandas as pd\n",
    "import graphviz\n",
    "from sklearn.tree import DecisionTreeClassifier, export_graphviz\n",
    "from sklearn.model_selection import train_test_split\n",
    "from sklearn.metrics import plot_confusion_matrix\n",
    "from sklearn.metrics import confusion_matrix\n",
    "from sklearn import tree, svm, datasets\n",
    "from sklearn.datasets import load_wine\n",
    "from IPython.display import SVG\n",
    "from graphviz import Source\n",
    "from IPython.display import display\n",
    "import seaborn as sns\n",
    "import matplotlib.pyplot as plt\n",
    "from sklearn.svm import SVC"
   ]
  },
  {
   "cell_type": "code",
   "execution_count": 2,
   "metadata": {},
   "outputs": [],
   "source": [
    "df = pd.read_csv(\"DGA_dataset3.csv\")"
   ]
  },
  {
   "cell_type": "code",
   "execution_count": 3,
   "metadata": {
    "scrolled": true
   },
   "outputs": [
    {
     "data": {
      "text/html": [
       "<div>\n",
       "<style scoped>\n",
       "    .dataframe tbody tr th:only-of-type {\n",
       "        vertical-align: middle;\n",
       "    }\n",
       "\n",
       "    .dataframe tbody tr th {\n",
       "        vertical-align: top;\n",
       "    }\n",
       "\n",
       "    .dataframe thead th {\n",
       "        text-align: right;\n",
       "    }\n",
       "</style>\n",
       "<table border=\"1\" class=\"dataframe\">\n",
       "  <thead>\n",
       "    <tr style=\"text-align: right;\">\n",
       "      <th></th>\n",
       "      <th>H2</th>\n",
       "      <th>CH4</th>\n",
       "      <th>C2H2</th>\n",
       "      <th>C2H4</th>\n",
       "      <th>C2H6</th>\n",
       "      <th>CH4/H2</th>\n",
       "      <th>C2H2/C2H4</th>\n",
       "      <th>C2H4/C2H6</th>\n",
       "      <th>C2H4/CH4</th>\n",
       "      <th>C2H2/CH4</th>\n",
       "      <th>C2H2/H2</th>\n",
       "      <th>%CH4</th>\n",
       "      <th>%C2H2</th>\n",
       "      <th>%C2H4</th>\n",
       "      <th>%H2</th>\n",
       "      <th>%C2H6</th>\n",
       "      <th>Decision</th>\n",
       "    </tr>\n",
       "  </thead>\n",
       "  <tbody>\n",
       "    <tr>\n",
       "      <th>0</th>\n",
       "      <td>3930.0</td>\n",
       "      <td>2397.0</td>\n",
       "      <td>0.0</td>\n",
       "      <td>0.0</td>\n",
       "      <td>157.0</td>\n",
       "      <td>0.609924</td>\n",
       "      <td>0.000000</td>\n",
       "      <td>0.000000</td>\n",
       "      <td>0.000000</td>\n",
       "      <td>0.000000</td>\n",
       "      <td>0.000000</td>\n",
       "      <td>36.967921</td>\n",
       "      <td>0.000000</td>\n",
       "      <td>0.000000</td>\n",
       "      <td>60.610734</td>\n",
       "      <td>2.421345</td>\n",
       "      <td>1</td>\n",
       "    </tr>\n",
       "    <tr>\n",
       "      <th>1</th>\n",
       "      <td>37800.0</td>\n",
       "      <td>1740.0</td>\n",
       "      <td>8.0</td>\n",
       "      <td>8.0</td>\n",
       "      <td>249.0</td>\n",
       "      <td>0.046032</td>\n",
       "      <td>1.000000</td>\n",
       "      <td>0.032129</td>\n",
       "      <td>0.004598</td>\n",
       "      <td>0.004598</td>\n",
       "      <td>0.000212</td>\n",
       "      <td>4.371310</td>\n",
       "      <td>0.020098</td>\n",
       "      <td>0.020098</td>\n",
       "      <td>94.962944</td>\n",
       "      <td>0.625550</td>\n",
       "      <td>1</td>\n",
       "    </tr>\n",
       "    <tr>\n",
       "      <th>2</th>\n",
       "      <td>92600.0</td>\n",
       "      <td>10200.0</td>\n",
       "      <td>0.0</td>\n",
       "      <td>0.0</td>\n",
       "      <td>0.0</td>\n",
       "      <td>0.110151</td>\n",
       "      <td>0.000000</td>\n",
       "      <td>0.000000</td>\n",
       "      <td>0.000000</td>\n",
       "      <td>0.000000</td>\n",
       "      <td>0.000000</td>\n",
       "      <td>9.922179</td>\n",
       "      <td>0.000000</td>\n",
       "      <td>0.000000</td>\n",
       "      <td>90.077821</td>\n",
       "      <td>0.000000</td>\n",
       "      <td>1</td>\n",
       "    </tr>\n",
       "    <tr>\n",
       "      <th>3</th>\n",
       "      <td>8266.0</td>\n",
       "      <td>1061.0</td>\n",
       "      <td>0.0</td>\n",
       "      <td>0.0</td>\n",
       "      <td>22.0</td>\n",
       "      <td>0.128357</td>\n",
       "      <td>0.000000</td>\n",
       "      <td>0.000000</td>\n",
       "      <td>0.000000</td>\n",
       "      <td>0.000000</td>\n",
       "      <td>0.000000</td>\n",
       "      <td>11.348807</td>\n",
       "      <td>0.000000</td>\n",
       "      <td>0.000000</td>\n",
       "      <td>88.415873</td>\n",
       "      <td>0.235319</td>\n",
       "      <td>1</td>\n",
       "    </tr>\n",
       "    <tr>\n",
       "      <th>4</th>\n",
       "      <td>9340.0</td>\n",
       "      <td>995.0</td>\n",
       "      <td>7.0</td>\n",
       "      <td>6.0</td>\n",
       "      <td>60.0</td>\n",
       "      <td>0.106531</td>\n",
       "      <td>1.166667</td>\n",
       "      <td>0.100000</td>\n",
       "      <td>0.006030</td>\n",
       "      <td>0.007035</td>\n",
       "      <td>0.000749</td>\n",
       "      <td>9.559954</td>\n",
       "      <td>0.067256</td>\n",
       "      <td>0.057648</td>\n",
       "      <td>89.738663</td>\n",
       "      <td>0.576480</td>\n",
       "      <td>1</td>\n",
       "    </tr>\n",
       "  </tbody>\n",
       "</table>\n",
       "</div>"
      ],
      "text/plain": [
       "        H2      CH4  C2H2  C2H4   C2H6    CH4/H2  C2H2/C2H4  C2H4/C2H6  \\\n",
       "0   3930.0   2397.0   0.0   0.0  157.0  0.609924   0.000000   0.000000   \n",
       "1  37800.0   1740.0   8.0   8.0  249.0  0.046032   1.000000   0.032129   \n",
       "2  92600.0  10200.0   0.0   0.0    0.0  0.110151   0.000000   0.000000   \n",
       "3   8266.0   1061.0   0.0   0.0   22.0  0.128357   0.000000   0.000000   \n",
       "4   9340.0    995.0   7.0   6.0   60.0  0.106531   1.166667   0.100000   \n",
       "\n",
       "   C2H4/CH4  C2H2/CH4   C2H2/H2       %CH4     %C2H2     %C2H4        %H2  \\\n",
       "0  0.000000  0.000000  0.000000  36.967921  0.000000  0.000000  60.610734   \n",
       "1  0.004598  0.004598  0.000212   4.371310  0.020098  0.020098  94.962944   \n",
       "2  0.000000  0.000000  0.000000   9.922179  0.000000  0.000000  90.077821   \n",
       "3  0.000000  0.000000  0.000000  11.348807  0.000000  0.000000  88.415873   \n",
       "4  0.006030  0.007035  0.000749   9.559954  0.067256  0.057648  89.738663   \n",
       "\n",
       "      %C2H6  Decision  \n",
       "0  2.421345         1  \n",
       "1  0.625550         1  \n",
       "2  0.000000         1  \n",
       "3  0.235319         1  \n",
       "4  0.576480         1  "
      ]
     },
     "execution_count": 3,
     "metadata": {},
     "output_type": "execute_result"
    }
   ],
   "source": [
    "df.head()"
   ]
  },
  {
   "cell_type": "code",
   "execution_count": 4,
   "metadata": {
    "scrolled": true
   },
   "outputs": [
    {
     "data": {
      "text/plain": [
       "<bound method DataFrame.info of           H2      CH4    C2H2     C2H4     C2H6    CH4/H2  C2H2/C2H4  \\\n",
       "0     3930.0   2397.0     0.0      0.0    157.0  0.609924   0.000000   \n",
       "1    37800.0   1740.0     8.0      8.0    249.0  0.046032   1.000000   \n",
       "2    92600.0  10200.0     0.0      0.0      0.0  0.110151   0.000000   \n",
       "3     8266.0   1061.0     0.0      0.0     22.0  0.128357   0.000000   \n",
       "4     9340.0    995.0     7.0      6.0     60.0  0.106531   1.166667   \n",
       "..       ...      ...     ...      ...      ...       ...        ...   \n",
       "196  24700.0  61000.0  1560.0  42100.0  26300.0  2.469636   0.037055   \n",
       "197     14.0     44.0     1.0      7.0    124.0  3.142857   0.142857   \n",
       "198   2031.0    149.0     0.0      3.0     20.0  0.073363   0.000000   \n",
       "199    480.0   1075.0     0.0   1132.0    298.0  2.239583   0.000000   \n",
       "200  40000.0    400.0     6.0    600.0     70.0  0.010000   0.010000   \n",
       "\n",
       "     C2H4/C2H6  C2H4/CH4  C2H2/CH4   C2H2/H2       %CH4     %C2H2      %C2H4  \\\n",
       "0     0.000000  0.000000  0.000000  0.000000  36.967921  0.000000   0.000000   \n",
       "1     0.032129  0.004598  0.004598  0.000212   4.371310  0.020098   0.020098   \n",
       "2     0.000000  0.000000  0.000000  0.000000   9.922179  0.000000   0.000000   \n",
       "3     0.000000  0.000000  0.000000  0.000000  11.348807  0.000000   0.000000   \n",
       "4     0.100000  0.006030  0.007035  0.000749   9.559954  0.067256   0.057648   \n",
       "..         ...       ...       ...       ...        ...       ...        ...   \n",
       "196   1.600760  0.690164  0.025574  0.063158  39.187974  1.002184  27.046126   \n",
       "197   0.056452  0.159091  0.022727  0.071429  23.157895  0.526316   3.684211   \n",
       "198   0.150000  0.020134  0.000000  0.000000   6.763504  0.000000   0.136178   \n",
       "199   3.798658  1.053023  0.000000  0.000000  36.013400  0.000000  37.922948   \n",
       "200   8.571429  1.500000  0.015000  0.000150   0.973805  0.014607   1.460707   \n",
       "\n",
       "           %H2      %C2H6  Decision  \n",
       "0    60.610734   2.421345         1  \n",
       "1    94.962944   0.625550         1  \n",
       "2    90.077821   0.000000         1  \n",
       "3    88.415873   0.235319         1  \n",
       "4    89.738663   0.576480         1  \n",
       "..         ...        ...       ...  \n",
       "196  15.867917  16.895799         4  \n",
       "197   7.368421  65.263158         4  \n",
       "198  92.192465   0.907853         4  \n",
       "199  16.080402   9.983250         4  \n",
       "200  97.380465   0.170416         4  \n",
       "\n",
       "[201 rows x 17 columns]>"
      ]
     },
     "execution_count": 4,
     "metadata": {},
     "output_type": "execute_result"
    }
   ],
   "source": [
    "df.info"
   ]
  },
  {
   "cell_type": "code",
   "execution_count": 5,
   "metadata": {
    "scrolled": true
   },
   "outputs": [],
   "source": [
    "X_train, X_test, y_train, y_test = train_test_split(df.drop('Decision',axis=1),df['Decision'],random_state = 1, test_size=0.1)"
   ]
  },
  {
   "cell_type": "code",
   "execution_count": 6,
   "metadata": {
    "scrolled": true
   },
   "outputs": [
    {
     "data": {
      "text/plain": [
       "((180, 16), (21, 16))"
      ]
     },
     "execution_count": 6,
     "metadata": {},
     "output_type": "execute_result"
    }
   ],
   "source": [
    "X_train.shape,X_test.shape"
   ]
  },
  {
   "cell_type": "code",
   "execution_count": 7,
   "metadata": {},
   "outputs": [
    {
     "data": {
      "text/plain": [
       "((180,), (21,))"
      ]
     },
     "execution_count": 7,
     "metadata": {},
     "output_type": "execute_result"
    }
   ],
   "source": [
    "y_train.shape,y_test.shape"
   ]
  },
  {
   "cell_type": "code",
   "execution_count": 8,
   "metadata": {},
   "outputs": [],
   "source": [
    "clf = tree.DecisionTreeClassifier(criterion= 'gini', max_depth = 9, min_samples_split=2, min_samples_leaf=1, random_state=0)\n",
    "\n",
    "clf = clf.fit(X_train,y_train)\n",
    "#classifier = svm.SVC(kernel='linear', C=0.1).fit(X_train, y_train)"
   ]
  },
  {
   "cell_type": "code",
   "execution_count": 9,
   "metadata": {
    "scrolled": false
   },
   "outputs": [
    {
     "data": {
      "text/plain": [
       "array([0.00443758, 0.05143265, 0.        , 0.01098988, 0.        ,\n",
       "       0.        , 0.44980591, 0.04687947, 0.22387864, 0.08091664,\n",
       "       0.01348246, 0.00952457, 0.        , 0.        , 0.1086522 ,\n",
       "       0.        ])"
      ]
     },
     "execution_count": 9,
     "metadata": {},
     "output_type": "execute_result"
    }
   ],
   "source": [
    "clf.feature_importances_"
   ]
  },
  {
   "cell_type": "code",
   "execution_count": 10,
   "metadata": {},
   "outputs": [
    {
     "name": "stdout",
     "output_type": "stream",
     "text": [
      "H2:0.004437581626247391\n",
      "CH4:0.0514326533851893\n",
      "C2H2:0.0\n",
      "C2H4:0.010989883201963513\n",
      "C2H6:0.0\n",
      "CH4/H2:0.0\n",
      "C2H2/C2H4:0.44980590929143505\n",
      "C2H4/C2H6:0.04687947089304808\n",
      "C2H4/CH4:0.2238786359600673\n",
      "C2H2/CH4:0.08091663577241064\n",
      "C2H2/H2:0.013482462593736597\n",
      "%CH4:0.009524565441701723\n",
      "%C2H2:0.0\n",
      "%C2H4:0.0\n",
      "%H2:0.10865220183420042\n",
      "%C2H6:0.0\n"
     ]
    }
   ],
   "source": [
    "for feature,importancia in zip(df.columns,clf.feature_importances_):\n",
    "            print('{}:{}' .format(feature, importancia))"
   ]
  },
  {
   "cell_type": "code",
   "execution_count": 11,
   "metadata": {},
   "outputs": [
    {
     "data": {
      "text/plain": [
       "array([5, 1, 3, 3, 2, 4, 3, 3, 1, 2, 5, 3, 2, 2, 4, 5, 3, 5, 5, 3, 3],\n",
       "      dtype=int64)"
      ]
     },
     "execution_count": 11,
     "metadata": {},
     "output_type": "execute_result"
    }
   ],
   "source": [
    "resultado = clf.predict(X_test)\n",
    "resultado"
   ]
  },
  {
   "cell_type": "code",
   "execution_count": 12,
   "metadata": {},
   "outputs": [
    {
     "name": "stdout",
     "output_type": "stream",
     "text": [
      "              precision    recall  f1-score   support\n",
      "\n",
      "           1       1.00      1.00      1.00         2\n",
      "           2       1.00      0.50      0.67         8\n",
      "           3       0.50      1.00      0.67         4\n",
      "           4       1.00      0.50      0.67         4\n",
      "           5       0.60      1.00      0.75         3\n",
      "\n",
      "    accuracy                           0.71        21\n",
      "   macro avg       0.82      0.80      0.75        21\n",
      "weighted avg       0.85      0.71      0.71        21\n",
      "\n"
     ]
    }
   ],
   "source": [
    "from sklearn import metrics\n",
    "\n",
    "print(metrics.classification_report(y_test,resultado,zero_division=0))"
   ]
  },
  {
   "cell_type": "code",
   "execution_count": 13,
   "metadata": {},
   "outputs": [],
   "source": [
    "import pydot\n",
    "import graphviz\n",
    "import os\n",
    "os.environ[\"PATH\"] += os.pathsep + 'C:\\Program Files (x86)\\Graphviz 2.44.1\\bin'"
   ]
  },
  {
   "cell_type": "code",
   "execution_count": 14,
   "metadata": {
    "scrolled": false
   },
   "outputs": [
    {
     "data": {
      "text/plain": [
       "'plot.png'"
      ]
     },
     "execution_count": 14,
     "metadata": {},
     "output_type": "execute_result"
    }
   ],
   "source": [
    "dot_data = export_graphviz(\n",
    "    clf,\n",
    "    out_file=None,\n",
    "    feature_names = df.drop('Decision',axis = 1).columns,\n",
    "    class_names = ['PD','D1','D2','T1|T2','T3'],\n",
    "    filled= False, rounded=True,\n",
    "    proportion = False,\n",
    "    rotate = False,\n",
    "    label ='root',\n",
    "    special_characters = False,\n",
    "    max_depth = 9,\n",
    "    impurity = False,\n",
    "    node_ids = False\n",
    "    )\n",
    "graph = graphviz.Source(dot_data, format = \"png\")\n",
    "graph.render('plot')"
   ]
  },
  {
   "cell_type": "code",
   "execution_count": 15,
   "metadata": {},
   "outputs": [],
   "source": [
    "from ipywidgets import interactive\n",
    "from IPython.display import SVG,display\n",
    "from graphviz import Source"
   ]
  },
  {
   "cell_type": "code",
   "execution_count": 16,
   "metadata": {},
   "outputs": [
    {
     "data": {
      "application/vnd.jupyter.widget-view+json": {
       "model_id": "769dc207b3b34bf2a664946cfde0df3e",
       "version_major": 2,
       "version_minor": 0
      },
      "text/plain": [
       "interactive(children=(Dropdown(description='crit', options=('gini', 'entropy'), value='gini'), Dropdown(descri…"
      ]
     },
     "metadata": {},
     "output_type": "display_data"
    }
   ],
   "source": [
    "\n",
    "\n",
    "# feature matrix\n",
    "X,y = df.drop('Decision',axis=1),df['Decision']\n",
    "\n",
    "# feature labels\n",
    "features_label = df.drop('Decision',axis=1).columns\n",
    "\n",
    "# class label\n",
    "class_label = ['PD','D1','D2','T1|T2','T3']\n",
    "\n",
    "def plot_tree(crit, split, depth, min_samples_split, min_samples_leaf=0.2):\n",
    "    estimator = DecisionTreeClassifier(\n",
    "           random_state = 0 \n",
    "          ,criterion = crit\n",
    "          ,splitter = split\n",
    "          ,max_depth = depth\n",
    "          ,min_samples_split=min_samples_split\n",
    "          ,min_samples_leaf=min_samples_leaf\n",
    "    )\n",
    "    estimator.fit(X, y)\n",
    "\n",
    "    graph = Source(export_graphviz(estimator\n",
    "      , out_file=None\n",
    "      , feature_names=features_label\n",
    "      , class_names = class_label\n",
    "      , impurity=True\n",
    "      , filled = True))\n",
    "    display(SVG(graph.pipe(format='svg')))\n",
    "    return estimator\n",
    "\n",
    "\n",
    "inter=interactive(plot_tree \n",
    "   ,  crit = [\"gini\", \"entropy\"]\n",
    "   , split = [\"best\", \"random\"]\n",
    "   , depth=[9\n",
    "           ]\n",
    "   , min_samples_split=(1,5)\n",
    "   , min_samples_leaf=(1,5),\n",
    "    figsize=(15,7.5))\n",
    "\n",
    "\n",
    "display(inter)\n",
    "\n"
   ]
  },
  {
   "cell_type": "code",
   "execution_count": 17,
   "metadata": {
    "scrolled": true
   },
   "outputs": [
    {
     "data": {
      "text/plain": [
       "'inter.png'"
      ]
     },
     "execution_count": 17,
     "metadata": {},
     "output_type": "execute_result"
    }
   ],
   "source": [
    "graph.render('inter')"
   ]
  },
  {
   "cell_type": "code",
   "execution_count": 18,
   "metadata": {
    "scrolled": false
   },
   "outputs": [
    {
     "name": "stdout",
     "output_type": "stream",
     "text": [
      "Confusion matrix, without normalization\n",
      "[[16  0  0  0  0]\n",
      " [ 0 45  4  0  0]\n",
      " [ 0  0 54  0  0]\n",
      " [ 0  0  0 42  2]\n",
      " [ 0  0  0  0 38]]\n",
      "Normalized confusion matrix\n",
      "[[1.         0.         0.         0.         0.        ]\n",
      " [0.         0.91836735 0.08163265 0.         0.        ]\n",
      " [0.         0.         1.         0.         0.        ]\n",
      " [0.         0.         0.         0.95454545 0.04545455]\n",
      " [0.         0.         0.         0.         1.        ]]\n"
     ]
    },
    {
     "data": {
      "image/png": "[encoded data removed]",
      "text/plain": [
       "<Figure size 432x288 with 2 Axes>"
      ]
     },
     "metadata": {
      "needs_background": "light"
     },
     "output_type": "display_data"
    },
    {
     "data": {
      "image/png": "[encoded data removed]",
      "text/plain": [
       "<Figure size 432x288 with 2 Axes>"
      ]
     },
     "metadata": {
      "needs_background": "light"
     },
     "output_type": "display_data"
    }
   ],
   "source": [
    "class_names = ['PD','D1','D2','T1|T2','T3']\n",
    "\n",
    "\n",
    "titles_options = [(\"Confusion matrix, without normalization\", None),\n",
    "                  (\"Normalized confusion matrix\", 'true')]\n",
    "for title, normalize in titles_options:\n",
    "    disp = plot_confusion_matrix(clf, X, y,\n",
    "                                 display_labels=class_names,\n",
    "                                 cmap=plt.cm.Blues,\n",
    "                                 normalize=normalize)\n",
    "    disp.ax_.set_title(title)\n",
    "\n",
    "    print(title)\n",
    "    print(disp.confusion_matrix)\n",
    "\n",
    "plt.show()"
   ]
  },
  {
   "cell_type": "code",
   "execution_count": 19,
   "metadata": {},
   "outputs": [],
   "source": [
    "from mlxtend.plotting import plot_decision_regions\n",
    "import matplotlib.pyplot as plt"
   ]
  },
  {
   "cell_type": "code",
   "execution_count": 29,
   "metadata": {},
   "outputs": [],
   "source": [
    "def visualize_fronteiras(msamples_split,max_depth):\n",
    "    X = df[['%C2H2','%C2H4']].values\n",
    "    y = df.Decision.values\n",
    "    clf = DecisionTreeClassifier(min_samples_split=msamples_split,max_depth=max_depth)\n",
    "    tree = clf.fit(X, y)\n",
    "\n",
    "    plt.figure(figsize=(8,6))\n",
    "    ax = plot_decision_regions(X, y, clf=tree, legend=0)\n",
    "\n",
    "    plt.xlabel('%C2H2')\n",
    "    plt.ylabel('%C2H4')\n",
    "    plt.title('Decision Tree')\n",
    "    \n",
    "    handles, labels = ax.get_legend_handles_labels()\n",
    "    ax.legend(handles, ['D1', 'D2', 'PD','T1|T2','T3'],framealpha=0.3, scatterpoints=1)\n",
    "    \n",
    "    plt.show()\n"
   ]
  },
  {
   "cell_type": "code",
   "execution_count": 30,
   "metadata": {
    "scrolled": false
   },
   "outputs": [
    {
     "name": "stderr",
     "output_type": "stream",
     "text": [
      "c:\\users\\engma\\appdata\\local\\programs\\python\\python37\\lib\\site-packages\\mlxtend\\plotting\\decision_regions.py:280: UserWarning: You passed a edgecolor/edgecolors ('black') for an unfilled marker ('x').  Matplotlib is ignoring the edgecolor in favor of the facecolor.  This behavior may change in the future.\n",
      "  **scatter_kwargs)\n"
     ]
    },
    {
     "data": {
      "image/png": "[encoded data removed]",
      "text/plain": [
       "<Figure size 576x432 with 1 Axes>"
      ]
     },
     "metadata": {
      "needs_background": "light"
     },
     "output_type": "display_data"
    }
   ],
   "source": [
    "visualize_fronteiras(2,max_depth=9)"
   ]
  },
  {
   "cell_type": "code",
   "execution_count": 33,
   "metadata": {
    "scrolled": false
   },
   "outputs": [],
   "source": [
    "def visualize_fronteiras(msamples_split,max_depth):\n",
    "    X = df[['%CH4','%H2']].values\n",
    "    y = df.Decision.values\n",
    "    clf = DecisionTreeClassifier(min_samples_split=msamples_split,max_depth=max_depth)\n",
    "    tree = clf.fit(X, y)\n",
    "\n",
    "    plt.figure(figsize=(8,6))\n",
    "    ax = plot_decision_regions(X, y, clf=tree, legend=0)\n",
    "\n",
    "    plt.xlabel('%CH4')\n",
    "    plt.ylabel('%H2')\n",
    "    plt.title('Decision Tree')\n",
    "    \n",
    "    handles, labels = ax.get_legend_handles_labels()\n",
    "    ax.legend(handles, ['D1', 'D2', 'PD','T1|T2','T3'],framealpha=0.3, scatterpoints=1)\n",
    "    \n",
    "    plt.show()\n"
   ]
  },
  {
   "cell_type": "code",
   "execution_count": 34,
   "metadata": {
    "scrolled": false
   },
   "outputs": [
    {
     "name": "stderr",
     "output_type": "stream",
     "text": [
      "c:\\users\\engma\\appdata\\local\\programs\\python\\python37\\lib\\site-packages\\mlxtend\\plotting\\decision_regions.py:280: UserWarning: You passed a edgecolor/edgecolors ('black') for an unfilled marker ('x').  Matplotlib is ignoring the edgecolor in favor of the facecolor.  This behavior may change in the future.\n",
      "  **scatter_kwargs)\n"
     ]
    },
    {
     "data": {
      "image/png": "[encoded data removed]",
      "text/plain": [
       "<Figure size 576x432 with 1 Axes>"
      ]
     },
     "metadata": {
      "needs_background": "light"
     },
     "output_type": "display_data"
    }
   ],
   "source": [
    "visualize_fronteiras(2,max_depth=9)"
   ]
  },
  {
   "cell_type": "code",
   "execution_count": 35,
   "metadata": {},
   "outputs": [],
   "source": [
    "def visualize_fronteiras(msamples_split,max_depth):\n",
    "    X = df[['%C2H2','%CH4']].values\n",
    "    y = df.Decision.values\n",
    "    clf = DecisionTreeClassifier(min_samples_split=msamples_split,max_depth=max_depth)\n",
    "    tree = clf.fit(X, y)\n",
    "\n",
    "    plt.figure(figsize=(8,6))\n",
    "    ax = plot_decision_regions(X, y, clf=tree, legend=0)\n",
    "\n",
    "    plt.xlabel('%C2H2')\n",
    "    plt.ylabel('%CH4')\n",
    "    plt.title('Decision Tree')\n",
    "    \n",
    "    handles, labels = ax.get_legend_handles_labels()\n",
    "    ax.legend(handles, ['D1', 'D2', 'PD','T1|T2','T3'],framealpha=0.3, scatterpoints=1)\n",
    "    \n",
    "    plt.show()\n"
   ]
  },
  {
   "cell_type": "code",
   "execution_count": 36,
   "metadata": {},
   "outputs": [
    {
     "name": "stderr",
     "output_type": "stream",
     "text": [
      "c:\\users\\engma\\appdata\\local\\programs\\python\\python37\\lib\\site-packages\\mlxtend\\plotting\\decision_regions.py:280: UserWarning: You passed a edgecolor/edgecolors ('black') for an unfilled marker ('x').  Matplotlib is ignoring the edgecolor in favor of the facecolor.  This behavior may change in the future.\n",
      "  **scatter_kwargs)\n"
     ]
    },
    {
     "data": {
      "image/png": "[encoded data removed]",
      "text/plain": [
       "<Figure size 576x432 with 1 Axes>"
      ]
     },
     "metadata": {
      "needs_background": "light"
     },
     "output_type": "display_data"
    }
   ],
   "source": [
    "visualize_fronteiras(2,max_depth=9)"
   ]
  },
  {
   "cell_type": "code",
   "execution_count": 37,
   "metadata": {},
   "outputs": [],
   "source": [
    "def visualize_fronteiras(msamples_split,max_depth):\n",
    "    X = df[['%C2H6','%C2H2']].values\n",
    "    y = df.Decision.values\n",
    "    clf = DecisionTreeClassifier(min_samples_split=msamples_split,max_depth=max_depth)\n",
    "    tree = clf.fit(X, y)\n",
    "\n",
    "    plt.figure(figsize=(8,6))\n",
    "    ax = plot_decision_regions(X, y, clf=tree, legend=0)\n",
    "\n",
    "    plt.xlabel('%C2H6')\n",
    "    plt.ylabel('%C2H2')\n",
    "    plt.title('Decision Tree')\n",
    "    \n",
    "    handles, labels = ax.get_legend_handles_labels()\n",
    "    ax.legend(handles, ['D1', 'D2', 'PD','T1|T2','T3'],framealpha=0.3, scatterpoints=1)\n",
    "    \n",
    "    plt.show()"
   ]
  },
  {
   "cell_type": "code",
   "execution_count": 38,
   "metadata": {},
   "outputs": [
    {
     "name": "stderr",
     "output_type": "stream",
     "text": [
      "c:\\users\\engma\\appdata\\local\\programs\\python\\python37\\lib\\site-packages\\mlxtend\\plotting\\decision_regions.py:280: UserWarning: You passed a edgecolor/edgecolors ('black') for an unfilled marker ('x').  Matplotlib is ignoring the edgecolor in favor of the facecolor.  This behavior may change in the future.\n",
      "  **scatter_kwargs)\n"
     ]
    },
    {
     "data": {
      "image/png": "[encoded data removed]",
      "text/plain": [
       "<Figure size 576x432 with 1 Axes>"
      ]
     },
     "metadata": {
      "needs_background": "light"
     },
     "output_type": "display_data"
    }
   ],
   "source": [
    "visualize_fronteiras(2,max_depth=9)"
   ]
  },
  {
   "cell_type": "code",
   "execution_count": null,
   "metadata": {},
   "outputs": [],
   "source": []
  }
 ],
 "metadata": {
  "kernelspec": {
   "display_name": "Python 3",
   "language": "python",
   "name": "python3"
  },
  "language_info": {
   "codemirror_mode": {
    "name": "ipython",
    "version": 3
   },
   "file_extension": ".py",
   "mimetype": "text/x-python",
   "name": "python",
   "nbconvert_exporter": "python",
   "pygments_lexer": "ipython3",
   "version": "3.7.5"
  }
 },
 "nbformat": 4,
 "nbformat_minor": 4
}
